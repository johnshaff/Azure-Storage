{
 "cells": [
  {
   "cell_type": "code",
   "execution_count": null,
   "metadata": {},
   "outputs": [],
   "source": [
    "%pip install azure-storage-queue"
   ]
  },
  {
   "cell_type": "raw",
   "metadata": {
    "vscode": {
     "languageId": "raw"
    }
   },
   "source": [
    "Before running the next cell you need to retrieve your Account Key from the Azure portal, or by running the 'endpoints-and-keys.ps1'\n",
    "PowerShell script located in the parent directory of the repository.\n",
    "\n",
    "https://github.com/johnshaff/Azure-Storage/blob/main/endpoints-and-key.ps1"
   ]
  },
  {
   "cell_type": "code",
   "execution_count": 1,
   "metadata": {},
   "outputs": [
    {
     "ename": "ModuleNotFoundError",
     "evalue": "No module named 'azure'",
     "output_type": "error",
     "traceback": [
      "\u001b[0;31m---------------------------------------------------------------------------\u001b[0m",
      "\u001b[0;31mModuleNotFoundError\u001b[0m                       Traceback (most recent call last)",
      "Cell \u001b[0;32mIn[1], line 1\u001b[0m\n\u001b[0;32m----> 1\u001b[0m \u001b[38;5;28;01mfrom\u001b[39;00m \u001b[38;5;21;01mazure\u001b[39;00m\u001b[38;5;21;01m.\u001b[39;00m\u001b[38;5;21;01mstorage\u001b[39;00m\u001b[38;5;21;01m.\u001b[39;00m\u001b[38;5;21;01mqueue\u001b[39;00m \u001b[38;5;28;01mimport\u001b[39;00m QueueServiceClient\n\u001b[1;32m      3\u001b[0m \u001b[38;5;66;03m# Hardcode the values for the storage account name and queue name\u001b[39;00m\n\u001b[1;32m      4\u001b[0m storageAccountName \u001b[38;5;241m=\u001b[39m \u001b[38;5;124m\"\u001b[39m\u001b[38;5;124m<storage-account-name>\u001b[39m\u001b[38;5;124m\"\u001b[39m\n",
      "\u001b[0;31mModuleNotFoundError\u001b[0m: No module named 'azure'"
     ]
    }
   ],
   "source": [
    "from azure.storage.queue import QueueServiceClient\n",
    "\n",
    "# Hardcode the values for the storage account name and queue name\n",
    "# To get your account key, go to azure portal or execute this script: https://github.com/johnshaff/Azure-Storage/blob/main/endpoints-and-key.ps1\n",
    "storageAccountName = \"<storage-account-name>\"\n",
    "account_key = \"<account-key>\"\n",
    "queue_name = \"pythonqueue\"\n",
    "\n",
    "# Simplified connection string with only the QueueEndpoint and credentials\n",
    "connection_string = f\"QueueEndpoint=https://{storageAccountName}.queue.core.windows.net/;AccountName={storageAccountName};AccountKey={account_key}\"\n",
    "\n",
    "# Create a QueueServiceClient object using the simplified connection string\n",
    "queue_service = QueueServiceClient.from_connection_string(connection_string)\n",
    "\n",
    "# Create a queue client\n",
    "queue_client = queue_service.get_queue_client(queue_name)\n",
    "\n",
    "# the queue will be created with the name you set as as queue_name because it was passed when calling get_queue_client(queue_name)\n",
    "queue_client.create_queue()\n",
    "\n",
    "# Check if the queue exists in Azure Storage\n",
    "if queue_client.queue_name is queue_name:\n",
    "    print(\"Queue created successfully\")\n",
    "else:\n",
    "    print(\"Queue does not exist\")"
   ]
  },
  {
   "cell_type": "code",
   "execution_count": 15,
   "metadata": {},
   "outputs": [
    {
     "name": "stdout",
     "output_type": "stream",
     "text": [
      "Message received: Hello again world from Python!\n"
     ]
    }
   ],
   "source": [
    "# Send a message to the queue\n",
    "queue_client.send_message(\"Hello again world from Python!\")\n",
    "\n",
    "# Receive messages from the queue\n",
    "messages = queue_client.receive_messages()\n",
    "\n",
    "# Display the message\n",
    "for message in messages:\n",
    "    print(f\"Message received: {message.content}\")"
   ]
  },
  {
   "cell_type": "code",
   "execution_count": 16,
   "metadata": {},
   "outputs": [
    {
     "name": "stdout",
     "output_type": "stream",
     "text": [
      "Queue deleted successfully\n"
     ]
    }
   ],
   "source": [
    "# Delete the message after reading it\n",
    "queue_client.delete_message(message)\n",
    "\n",
    "# Delete the queue\n",
    "queue_client.delete_queue()\n",
    "print(\"Queue deleted successfully\")"
   ]
  }
 ],
 "metadata": {
  "kernelspec": {
   "display_name": "Python 3",
   "language": "python",
   "name": "python3"
  },
  "language_info": {
   "codemirror_mode": {
    "name": "ipython",
    "version": 3
   },
   "file_extension": ".py",
   "mimetype": "text/x-python",
   "name": "python",
   "nbconvert_exporter": "python",
   "pygments_lexer": "ipython3",
   "version": "3.10.10"
  }
 },
 "nbformat": 4,
 "nbformat_minor": 2
}
